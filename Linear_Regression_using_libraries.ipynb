{
  "nbformat": 4,
  "nbformat_minor": 0,
  "metadata": {
    "colab": {
      "name": "Linear Regression using libraries.ipynb",
      "provenance": [],
      "collapsed_sections": []
    },
    "kernelspec": {
      "name": "python3",
      "display_name": "Python 3"
    }
  },
  "cells": [
    {
      "cell_type": "code",
      "metadata": {
        "id": "2HKabIoUobI8",
        "colab_type": "code",
        "colab": {
          "base_uri": "https://localhost:8080/",
          "height": 396
        },
        "outputId": "8bf980e9-875a-4910-b763-7237c98e5a14"
      },
      "source": [
        "import numpy as np\n",
        "import matplotlib.pyplot as plt\n",
        "from sklearn.linear_model import LinearRegression\n",
        "\n",
        "#Here is few hieght and weight data of the students\n",
        "\n",
        "hi=np.array([5.5,5.42,5.92,5.42,6.0,5.75,5.0,5.33,5.67,5.08,5.92,5.42,5.92,5.67,5.42,5.92,5.58,5.5,5.17,5.67,5.67,5.5]).reshape((-1,1))\n",
        "wi=np.array([58,56,60,45,97,60,47,70,62,42,74,61,60,72,58,103,50,62,45,58,70,60])\n",
        "\n",
        "model=LinearRegression().fit(hi, wi)\n",
        "\n",
        "a=model.coef_\n",
        "b=model.intercept_\n",
        "\n",
        "print()\n",
        "print(\"Slope is:%.2f\" %a)\n",
        "print(\"Intercept is:%.2f\" %b)\n",
        "print()\n",
        "\n",
        "g=[hi[5],hi[18]]\n",
        "c=[]\n",
        "for i in range(len(g)):\n",
        "    c.append((model.coef_* g[i])+model.intercept_)\n",
        "    print(\"y\",[i+1],\"=\" ,\"%.4f\" %c[i])\n",
        "    \n",
        "plt.plot(g,c,color=\"green\",linestyle='solid',linewidth=5)\n",
        "plt.title(\"Linear Regression\")\n",
        "plt.scatter(hi,wi,color=\"blue\")\n",
        "plt.xlabel(\"height\")\n",
        "plt.ylabel(\"weight\")\n",
        "plt.show()\n"
      ],
      "execution_count": 9,
      "outputs": [
        {
          "output_type": "stream",
          "text": [
            "\n",
            "Slope is:37.32\n",
            "Intercept is:-145.45\n",
            "\n",
            "y [1] = 69.1431\n",
            "y [2] = 47.4971\n"
          ],
          "name": "stdout"
        },
        {
          "output_type": "display_data",
          "data": {
            "image/png": "[encoded data removed]",
            "text/plain": [
              "<Figure size 432x288 with 1 Axes>"
            ]
          },
          "metadata": {
            "tags": [],
            "needs_background": "light"
          }
        }
      ]
    }
  ]
}