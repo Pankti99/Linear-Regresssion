{
  "nbformat": 4,
  "nbformat_minor": 0,
  "metadata": {
    "colab": {
      "name": "Linear Regression(Analytical met.ipynb",
      "provenance": []
    },
    "kernelspec": {
      "name": "python3",
      "display_name": "Python 3"
    }
  },
  "cells": [
    {
      "cell_type": "code",
      "metadata": {
        "id": "X8wM6jX3lVPo",
        "colab_type": "code",
        "colab": {
          "base_uri": "https://localhost:8080/",
          "height": 917
        },
        "outputId": "19cc1fe1-12fc-4d5d-d3b3-bb4854befade"
      },
      "source": [
        "import matplotlib.pyplot as plt\n",
        "\n",
        "\n",
        "hi=[5.5,5.42,5.92,5.42,6.0,5.75,5.0,5.33,5.67,5.08,5.92,5.42,5.92,5.67,5.42,5.92,5.58,5.5,5.17,5.67,5.67,5.5]\n",
        "wi=[58,56,60,45,97,60,47,70,62,42,74,61,60,72,58,103,50,62,45,58,70,60]\n",
        "\n",
        "\n",
        "y=[]\n",
        "x=[]\n",
        "n=len(hi)\n",
        "print(\"===============================================================\")\n",
        "print()\n",
        "print(\"No.     | \",end=\"  \")\n",
        "print(\"hi  | \",end=\"  \")\n",
        "print(\"wi  | \",end=\"    \")\n",
        "print(\"hi^2       | \",end=\"     \")\n",
        "print(\"hiwi   \",end=\" \")\n",
        "print()\n",
        "print(\"===============================================================\")\n",
        "\n",
        "for i in range(n):\n",
        "    x.append(hi[i]*wi[i])\n",
        "    y.append(hi[i]*hi[i]) \n",
        "\n",
        "no=0\n",
        "print()\n",
        "\n",
        "for i in range(n):\n",
        "    no=no+1\n",
        "    print(no ,\"\\t|\",hi[i],\"\\t|\",wi[i],\"\\t|\",\"%.2f\" %y[i],\"\\t|\",\"%.2f\" %x[i])\n",
        "    \n",
        "h=sum(hi)\n",
        "w=sum(wi)\n",
        "z=sum(y)\n",
        "d=sum(x)\n",
        "p=h**2\n",
        "print(\"==================================================================\")\n",
        "print(\"\\t\",sum(hi),sum(wi),\"\\t\",sum(y),\"\\t %.4f\" %(sum(x)))\n",
        "a=((h*w)-(no*d))/((p)-(no*z))\n",
        "b=((d*h)-(w*z))/(p-(no*z))\n",
        "\n",
        "print()\n",
        "print(\"a=\",\"%.4f\" %a)\n",
        "print(\"b=\",\"%.4f\" %b)\n",
        "\n",
        "g=[hi[9],hi[4]]\n",
        "c=[]\n",
        "print()\n",
        "print(\"-----Linear Regression points-----\")\n",
        "print()\n",
        "for i in range(len(g)):\n",
        "    c.append((a*g[i])+b)\n",
        "    print(\"y\",[i+1],\"=\" ,\"%.4f\" %c[i])\n",
        " \n",
        "plt.plot(g,c,color=\"red\")\n",
        "plt.title(\"Linear Regression\")\n",
        "plt.scatter(hi,wi)\n",
        "plt.xlabel(\"height\")\n",
        "plt.ylabel(\"weight\")\n",
        "plt.show()"
      ],
      "execution_count": 3,
      "outputs": [
        {
          "output_type": "stream",
          "text": [
            "===============================================================\n",
            "\n",
            "No.     |   hi  |   wi  |     hi^2       |      hiwi    \n",
            "===============================================================\n",
            "\n",
            "1 \t| 5.5 \t| 58 \t| 30.25 \t| 319.00\n",
            "2 \t| 5.42 \t| 56 \t| 29.38 \t| 303.52\n",
            "3 \t| 5.92 \t| 60 \t| 35.05 \t| 355.20\n",
            "4 \t| 5.42 \t| 45 \t| 29.38 \t| 243.90\n",
            "5 \t| 6.0 \t| 97 \t| 36.00 \t| 582.00\n",
            "6 \t| 5.75 \t| 60 \t| 33.06 \t| 345.00\n",
            "7 \t| 5.0 \t| 47 \t| 25.00 \t| 235.00\n",
            "8 \t| 5.33 \t| 70 \t| 28.41 \t| 373.10\n",
            "9 \t| 5.67 \t| 62 \t| 32.15 \t| 351.54\n",
            "10 \t| 5.08 \t| 42 \t| 25.81 \t| 213.36\n",
            "11 \t| 5.92 \t| 74 \t| 35.05 \t| 438.08\n",
            "12 \t| 5.42 \t| 61 \t| 29.38 \t| 330.62\n",
            "13 \t| 5.92 \t| 60 \t| 35.05 \t| 355.20\n",
            "14 \t| 5.67 \t| 72 \t| 32.15 \t| 408.24\n",
            "15 \t| 5.42 \t| 58 \t| 29.38 \t| 314.36\n",
            "16 \t| 5.92 \t| 103 \t| 35.05 \t| 609.76\n",
            "17 \t| 5.58 \t| 50 \t| 31.14 \t| 279.00\n",
            "18 \t| 5.5 \t| 62 \t| 30.25 \t| 341.00\n",
            "19 \t| 5.17 \t| 45 \t| 26.73 \t| 232.65\n",
            "20 \t| 5.67 \t| 58 \t| 32.15 \t| 328.86\n",
            "21 \t| 5.67 \t| 70 \t| 32.15 \t| 396.90\n",
            "22 \t| 5.5 \t| 60 \t| 30.25 \t| 330.00\n",
            "==================================================================\n",
            "\t 122.45 1370 \t 683.1799 \t 7686.2900\n",
            "\n",
            "a= 37.3208\n",
            "b= -145.4514\n",
            "\n",
            "-----Linear Regression points-----\n",
            "\n",
            "y [1] = 44.1382\n",
            "y [2] = 78.4733\n"
          ],
          "name": "stdout"
        },
        {
          "output_type": "display_data",
          "data": {
            "image/png": "[encoded data removed]",
            "text/plain": [
              "<Figure size 432x288 with 1 Axes>"
            ]
          },
          "metadata": {
            "tags": [],
            "needs_background": "light"
          }
        }
      ]
    }
  ]
}