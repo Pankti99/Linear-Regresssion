{
  "nbformat": 4,
  "nbformat_minor": 0,
  "metadata": {
    "colab": {
      "name": "Linear Regression using gradient descent.ipynb",
      "provenance": [],
      "collapsed_sections": []
    },
    "kernelspec": {
      "name": "python3",
      "display_name": "Python 3"
    }
  },
  "cells": [
    {
      "cell_type": "code",
      "metadata": {
        "id": "6BzDycmlqcek",
        "colab_type": "code",
        "colab": {
          "base_uri": "https://localhost:8080/",
          "height": 396
        },
        "outputId": "0217d09b-196c-49c1-c707-8d49706ef9b7"
      },
      "source": [
        "import matplotlib.pyplot as plt\n",
        "\n",
        "#Gradient descent without library\n",
        "hi=[5.5,5.42,5.92,5.42,6.0,5.75,5.0,5.33,5.67,5.08,5.92,5.42,5.92,5.67,5.42,5.92,5.58,5.5,5.17,5.67,5.67,5.5]\n",
        "wi=[58,56,60,45,97,60,47,70,62,42,74,61,60,72,58,103,50,62,45,58,70,60]\n",
        "\n",
        "his=[]\n",
        "hiwi=[]\n",
        "y=[]\n",
        "x=[]\n",
        "n=len(hi)\n",
        "for i in range(n):\n",
        "    x.append(hi[i]*wi[i])\n",
        "    y.append(hi[i]*hi[i]) \n",
        "    \n",
        "h=sum(hi)\n",
        "w=sum(wi)\n",
        "z=sum(y)\n",
        "d=sum(x)\n",
        "\n",
        "def funca( a,b ): \n",
        "\treturn (((a*z)+(b*h))-d)\n",
        "\n",
        "def funcb( a,b ): \n",
        "\treturn (((a*h)+(b*n))-w)\n",
        "\n",
        "eps=10**-11\n",
        "def grediant( x,y ):  \n",
        "    # Can change alpha's value as per the need. \n",
        "    alpha=0.0000005\n",
        "    a=x\n",
        "    b=y\n",
        "    cnt=0\n",
        "    while True:      \n",
        "         an=a- (alpha*(funca(a,b)))\n",
        "         bn=b- (alpha*(funcb(a,b)))\n",
        "             \n",
        "         if(abs(an-a)<eps or abs(bn-b)<eps):\n",
        "             break\n",
        "         a=an\n",
        "         b=bn \n",
        "         cnt=cnt+1\n",
        "        # Remove the comments if you want to check the number of iterations it takes to give the answer.\n",
        "        # if cnt%500000==0:\n",
        "           # print(\"n=\",cnt,\"a=%.4f\" %a ,end=\" \")\n",
        "           # print(\"b=%.4f\" %b)\n",
        "            \n",
        "    print(\"a=%.4f\" %a ,end=\" \")\n",
        "    print(\"b=%.4f\" %b)\n",
        "    return a,b\n",
        "        \n",
        "a0=0\n",
        "b0=0\n",
        "x,y=grediant(a0,b0) \n",
        "\n",
        "g=[hi[5],hi[19]]\n",
        "c=[]\n",
        "print()\n",
        "print(\"-----Linear Regression points-----\")\n",
        "print()\n",
        "for i in range(len(g)):\n",
        "    c.append((x*g[i])+y)\n",
        "    print(\"y\",[i+1],\"=\" ,\"%.4f\" %c[i])\n",
        "    \n",
        "plt.plot(g,c,color=\"green\")\n",
        "plt.title(\"Linear Regression\")\n",
        "plt.scatter(hi,wi,color=\"orange\")\n",
        "plt.xlabel(\"Height\")\n",
        "plt.ylabel(\"Width\")\n",
        "plt.show()\n",
        " "
      ],
      "execution_count": 4,
      "outputs": [
        {
          "output_type": "stream",
          "text": [
            "a=37.3204 b=-145.4492\n",
            "\n",
            "-----Linear Regression points-----\n",
            "\n",
            "y [1] = 69.1431\n",
            "y [2] = 66.1574\n"
          ],
          "name": "stdout"
        },
        {
          "output_type": "display_data",
          "data": {
            "image/png": "[encoded data removed]",
            "text/plain": [
              "<Figure size 432x288 with 1 Axes>"
            ]
          },
          "metadata": {
            "tags": [],
            "needs_background": "light"
          }
        }
      ]
    }
  ]
}